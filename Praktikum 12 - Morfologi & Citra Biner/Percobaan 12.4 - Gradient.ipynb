{
 "cells": [
  {
   "cell_type": "code",
   "execution_count": 1,
   "metadata": {},
   "outputs": [],
   "source": [
    "# Python programe to illustrate \n",
    "# Gradient morphological operation \n",
    "# on input frames \n",
    "  \n",
    "# organizing imports   \n",
    "import cv2   \n",
    "import numpy as np   \n",
    "  \n",
    "# return video from the first webcam on your computer.   \n",
    "screenRead = cv2.VideoCapture(0) \n",
    "  \n",
    "# loop runs if capturing has been initialized. \n",
    "while(1): \n",
    "    # reads frames from a camera \n",
    "    _, image = screenRead.read() \n",
    "      \n",
    "    # Converts to HSV color space, OCV reads colors as BGR  \n",
    "    # frame is converted to hsv \n",
    "    hsv = cv2.cvtColor(image, cv2.COLOR_BGR2HSV) \n",
    "      \n",
    "    # defining the range of masking \n",
    "    blue1 = np.array([110, 50, 50]) \n",
    "    blue2 = np.array([130, 255, 255]) \n",
    "      \n",
    "    # initializing the mask to be \n",
    "    # convoluted over input image \n",
    "    mask = cv2.inRange(hsv, blue1, blue2) \n",
    "  \n",
    "    # passing the bitwise_and over \n",
    "    # each pixel convoluted \n",
    "    res = cv2.bitwise_and(image, image, mask = mask) \n",
    "      \n",
    "    # defining the kernel i.e. Structuring element \n",
    "    kernel = np.ones((5, 5), np.uint8) \n",
    "      \n",
    "    # defining the gradient function  \n",
    "    # over the image and structuring element \n",
    "    gradient = cv2.morphologyEx(mask, cv2.MORPH_GRADIENT, kernel) \n",
    "     \n",
    "    # The mask and closing operation \n",
    "    # is shown in the window  \n",
    "    cv2.imshow('Gradient', gradient) \n",
    "      \n",
    "    # Wait for 'a' key to stop the program  \n",
    "    if cv2.waitKey(1) & 0xFF == ord('a'): \n",
    "        break\n",
    "\n",
    "# De-allocate any associated memory usage   \n",
    "cv2.destroyAllWindows() \n",
    "  \n",
    "# Close the window / Release webcam  \n",
    "screenRead.release() "
   ]
  },
  {
   "cell_type": "code",
   "execution_count": null,
   "metadata": {},
   "outputs": [],
   "source": []
  }
 ],
 "metadata": {
  "kernelspec": {
   "display_name": "Python 3",
   "language": "python",
   "name": "python3"
  },
  "language_info": {
   "codemirror_mode": {
    "name": "ipython",
    "version": 3
   },
   "file_extension": ".py",
   "mimetype": "text/x-python",
   "name": "python",
   "nbconvert_exporter": "python",
   "pygments_lexer": "ipython3",
   "version": "3.8.3"
  }
 },
 "nbformat": 4,
 "nbformat_minor": 4
}
